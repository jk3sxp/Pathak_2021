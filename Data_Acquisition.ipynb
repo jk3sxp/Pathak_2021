{
 "cells": [
  {
   "cell_type": "markdown",
   "metadata": {},
   "source": [
    "# Data Acquisition"
   ]
  },
  {
   "cell_type": "markdown",
   "metadata": {},
   "source": [
    "### This notebook will walk you through acquiring the related TNG-100 data before further analysis can be done. \n",
    "\n",
    "Note that the code in ```Figures.ipynb``` will not run unless the relevant data has been downloaded, processed and stored in compatible formats. So this notebook must be run before the figures from the paper (https://arxiv.org/abs/2105.02234) can be generated.\n",
    "\n",
    "## 0. _Get API key_\n",
    "\n",
    "**Downloading TNG data requires an API key from the IllustrisTNG server.** If this your first time working with TNG data, visit https://www.tng-project.org/data/docs/api/ and click on _New User Registration_ to create a user account and request an API key. \n",
    "\n",
    "#### Once in possession of your **API key**, navigate to ```simulation_data.__init__``` and set the variable ```API = \"ThisIsMyAPIKeyForIllustrisTNG\"``` with your API key as a string. \n",
    "\n",
    "You do not need to repeat this step during later iterations, unless your API key changes, or the variable ```API``` is not set permanently.\n",
    "\n",
    "## 1. _Import custom functions_\n",
    "\n",
    "First, import the necessary functions. Make sure to provide the right local path to the custom module ```simulation_data```. This module is required for generating the figures from the paper."
   ]
  },
  {
   "cell_type": "code",
   "execution_count": 1,
   "metadata": {
    "tags": []
   },
   "outputs": [],
   "source": [
    "from simulation_data import get"
   ]
  },
  {
   "cell_type": "code",
   "execution_count": 2,
   "metadata": {},
   "outputs": [],
   "source": [
    "import numpy as np\n",
    "import h5py\n",
    "\n",
    "from simulation_data.galaxies import GalaxyPopulation\n",
    "my_galaxy_population = GalaxyPopulation()\n",
    "from simulation_data.galaxies.galaxy import get_galaxy_particle_data, get_stellar_assembly_data"
   ]
  },
  {
   "cell_type": "markdown",
   "metadata": {},
   "source": [
    "## 2. _Download particle data_\n",
    "\n",
    "Now, download targeted particle data for galaxies only within the specified mass cut at the specified redshift. This cell downloads particle data for all $z=2$ galaxies within $10^{10.5} \\leq M_{*}/M_{\\odot} \\leq 10^{12}$. \n",
    "\n",
    "Remember to check the path specified in the function ```get_galaxy_particle_data``` in ```simulation_data.galaxies.galaxy``` and make sure it points to a valid local drive. Within the target drive, create a folder titled ```'redshift_'+str(redshift)+'_data``` before running this cell. Note that the ```get_stellar_assembly_data``` needs a pre-existing stellar assembly file to run. Generating Figures 4 and 5 in the ```Figures``` notebook partially depends on the stellar assembly files for $z=2$."
   ]
  },
  {
   "cell_type": "code",
   "execution_count": 3,
   "metadata": {
    "tags": []
   },
   "outputs": [
    {
     "name": "stdout",
     "output_type": "stream",
     "text": [
      "http://www.tng-project.org/api/TNG100-1/snapshots/z=2/subhalos/?mass_stars__gt=2.14212688699806&mass_stars__lt=67.74\n",
      "1045\n"
     ]
    },
    {
     "ename": "KeyboardInterrupt",
     "evalue": "",
     "output_type": "error",
     "traceback": [
      "\u001b[1;31m---------------------------------------------------------------------------\u001b[0m",
      "\u001b[1;31mKeyboardInterrupt\u001b[0m                         Traceback (most recent call last)",
      "\u001b[1;32m<ipython-input-3-eccbf49e7b32>\u001b[0m in \u001b[0;36m<module>\u001b[1;34m\u001b[0m\n\u001b[0;32m      6\u001b[0m \u001b[1;31m#this gets and saves the particle data for each galaxy in our selection\u001b[0m\u001b[1;33m\u001b[0m\u001b[1;33m\u001b[0m\u001b[1;33m\u001b[0m\u001b[0m\n\u001b[0;32m      7\u001b[0m \u001b[1;32mfor\u001b[0m \u001b[0midx\u001b[0m \u001b[1;32min\u001b[0m \u001b[0mids\u001b[0m\u001b[1;33m:\u001b[0m\u001b[1;33m\u001b[0m\u001b[1;33m\u001b[0m\u001b[0m\n\u001b[1;32m----> 8\u001b[1;33m     \u001b[0mget_galaxy_particle_data\u001b[0m\u001b[1;33m(\u001b[0m\u001b[0mid\u001b[0m\u001b[1;33m=\u001b[0m\u001b[0midx\u001b[0m\u001b[1;33m,\u001b[0m \u001b[0mredshift\u001b[0m\u001b[1;33m=\u001b[0m\u001b[0mredshift\u001b[0m\u001b[1;33m,\u001b[0m \u001b[0mpopulate_dict\u001b[0m\u001b[1;33m=\u001b[0m\u001b[1;32mFalse\u001b[0m\u001b[1;33m)\u001b[0m\u001b[1;33m\u001b[0m\u001b[1;33m\u001b[0m\u001b[0m\n\u001b[0m\u001b[0;32m      9\u001b[0m     \u001b[1;31m#Download Stellar Assembly Files for the chosen redshift before attempting to get particle assembly data\u001b[0m\u001b[1;33m\u001b[0m\u001b[1;33m\u001b[0m\u001b[1;33m\u001b[0m\u001b[0m\n\u001b[0;32m     10\u001b[0m     \u001b[1;31m#get_stellar_assembly_data(id=idx, redshift=redshift, populate_dict=False)\u001b[0m\u001b[1;33m\u001b[0m\u001b[1;33m\u001b[0m\u001b[1;33m\u001b[0m\u001b[0m\n",
      "\u001b[1;32mD:\\Pathak_2021\\simulation_data\\galaxies\\galaxy.py\u001b[0m in \u001b[0;36mget_galaxy_particle_data\u001b[1;34m(id, redshift, populate_dict)\u001b[0m\n\u001b[0;32m    161\u001b[0m         \u001b[0mstarMetallicity\u001b[0m \u001b[1;33m=\u001b[0m \u001b[0mh5f_open\u001b[0m\u001b[1;33m[\u001b[0m\u001b[1;34m'stellar_metallicities'\u001b[0m\u001b[1;33m]\u001b[0m\u001b[1;33m[\u001b[0m\u001b[1;33m:\u001b[0m\u001b[1;33m]\u001b[0m\u001b[1;33m\u001b[0m\u001b[1;33m\u001b[0m\u001b[0m\n\u001b[0;32m    162\u001b[0m         \u001b[0mU\u001b[0m \u001b[1;33m=\u001b[0m \u001b[0mh5f_open\u001b[0m\u001b[1;33m[\u001b[0m\u001b[1;34m'u_band'\u001b[0m\u001b[1;33m]\u001b[0m\u001b[1;33m[\u001b[0m\u001b[1;33m:\u001b[0m\u001b[1;33m]\u001b[0m\u001b[1;33m\u001b[0m\u001b[1;33m\u001b[0m\u001b[0m\n\u001b[1;32m--> 163\u001b[1;33m         \u001b[0mV\u001b[0m \u001b[1;33m=\u001b[0m \u001b[0mh5f_open\u001b[0m\u001b[1;33m[\u001b[0m\u001b[1;34m'v_band'\u001b[0m\u001b[1;33m]\u001b[0m\u001b[1;33m[\u001b[0m\u001b[1;33m:\u001b[0m\u001b[1;33m]\u001b[0m\u001b[1;33m\u001b[0m\u001b[1;33m\u001b[0m\u001b[0m\n\u001b[0m\u001b[0;32m    164\u001b[0m         \u001b[0mI\u001b[0m \u001b[1;33m=\u001b[0m \u001b[0mh5f_open\u001b[0m\u001b[1;33m[\u001b[0m\u001b[1;34m'i_band'\u001b[0m\u001b[1;33m]\u001b[0m\u001b[1;33m[\u001b[0m\u001b[1;33m:\u001b[0m\u001b[1;33m]\u001b[0m\u001b[1;33m\u001b[0m\u001b[1;33m\u001b[0m\u001b[0m\n\u001b[0;32m    165\u001b[0m         \u001b[0mParticleIDs\u001b[0m \u001b[1;33m=\u001b[0m \u001b[0mh5f_open\u001b[0m\u001b[1;33m[\u001b[0m\u001b[1;34m'ParticleIDs'\u001b[0m\u001b[1;33m]\u001b[0m\u001b[1;33m[\u001b[0m\u001b[1;33m:\u001b[0m\u001b[1;33m]\u001b[0m\u001b[1;33m\u001b[0m\u001b[1;33m\u001b[0m\u001b[0m\n",
      "\u001b[1;32mh5py\\_objects.pyx\u001b[0m in \u001b[0;36mh5py._objects.with_phil.wrapper\u001b[1;34m()\u001b[0m\n",
      "\u001b[1;32mh5py\\_objects.pyx\u001b[0m in \u001b[0;36mh5py._objects.with_phil.wrapper\u001b[1;34m()\u001b[0m\n",
      "\u001b[1;32m~\\anaconda3\\lib\\site-packages\\h5py\\_hl\\dataset.py\u001b[0m in \u001b[0;36m__getitem__\u001b[1;34m(self, args)\u001b[0m\n\u001b[0;32m    574\u001b[0m \u001b[1;33m\u001b[0m\u001b[0m\n\u001b[0;32m    575\u001b[0m         \u001b[1;31m# Patch up the output for NumPy\u001b[0m\u001b[1;33m\u001b[0m\u001b[1;33m\u001b[0m\u001b[1;33m\u001b[0m\u001b[0m\n\u001b[1;32m--> 576\u001b[1;33m         \u001b[1;32mif\u001b[0m \u001b[0mlen\u001b[0m\u001b[1;33m(\u001b[0m\u001b[0mnames\u001b[0m\u001b[1;33m)\u001b[0m \u001b[1;33m==\u001b[0m \u001b[1;36m1\u001b[0m\u001b[1;33m:\u001b[0m\u001b[1;33m\u001b[0m\u001b[1;33m\u001b[0m\u001b[0m\n\u001b[0m\u001b[0;32m    577\u001b[0m             \u001b[0marr\u001b[0m \u001b[1;33m=\u001b[0m \u001b[0marr\u001b[0m\u001b[1;33m[\u001b[0m\u001b[0mnames\u001b[0m\u001b[1;33m[\u001b[0m\u001b[1;36m0\u001b[0m\u001b[1;33m]\u001b[0m\u001b[1;33m]\u001b[0m     \u001b[1;31m# Single-field recarray convention\u001b[0m\u001b[1;33m\u001b[0m\u001b[1;33m\u001b[0m\u001b[0m\n\u001b[0;32m    578\u001b[0m         \u001b[1;32mif\u001b[0m \u001b[0marr\u001b[0m\u001b[1;33m.\u001b[0m\u001b[0mshape\u001b[0m \u001b[1;33m==\u001b[0m \u001b[1;33m(\u001b[0m\u001b[1;33m)\u001b[0m\u001b[1;33m:\u001b[0m\u001b[1;33m\u001b[0m\u001b[1;33m\u001b[0m\u001b[0m\n",
      "\u001b[1;31mKeyboardInterrupt\u001b[0m: "
     ]
    }
   ],
   "source": [
    "redshift = 2\n",
    "#this initializes the values in simulation_data.galaxies.galaxy_population\n",
    "ids = my_galaxy_population.select_galaxies(redshift=redshift, mass_min=10.5, mass_max=12)\n",
    "print(len(ids))\n",
    "\n",
    "#this gets and saves the particle data for each galaxy in our selection\n",
    "for idx in ids:\n",
    "    get_galaxy_particle_data(id=idx, redshift=redshift, populate_dict=False)\n",
    "    #Download Stellar Assembly Files for the chosen redshift before attempting to get particle assembly data\n",
    "    #get_stellar_assembly_data(id=idx, redshift=redshift, populate_dict=False)"
   ]
  },
  {
   "cell_type": "markdown",
   "metadata": {},
   "source": [
    "## 3. _Find Main Progenitor and Descendent IDs_\n",
    "\n",
    "We now get the ids for the progenitors and descendents of our population identified at $z=2$. This example finds the main progenitor for each galaxy at $z=3$ and the descendant at $z=1.5$. It saves the arrays of ids at each redshift in the file ```redshift_ids.hdf5```. This step may be time-consuming. The intermediate print statements are not required."
   ]
  },
  {
   "cell_type": "code",
   "execution_count": 3,
   "metadata": {},
   "outputs": [
    {
     "ename": "NameError",
     "evalue": "name 'ids' is not defined",
     "output_type": "error",
     "traceback": [
      "\u001b[1;31m---------------------------------------------------------------------------\u001b[0m",
      "\u001b[1;31mNameError\u001b[0m                                 Traceback (most recent call last)",
      "\u001b[1;32m<ipython-input-3-864db70e9cf0>\u001b[0m in \u001b[0;36m<module>\u001b[1;34m\u001b[0m\n\u001b[1;32m----> 1\u001b[1;33m \u001b[0mz2_ids\u001b[0m \u001b[1;33m=\u001b[0m \u001b[0mids\u001b[0m\u001b[1;33m\u001b[0m\u001b[1;33m\u001b[0m\u001b[0m\n\u001b[0m\u001b[0;32m      2\u001b[0m \u001b[0mz3_ids\u001b[0m \u001b[1;33m=\u001b[0m \u001b[0mnp\u001b[0m\u001b[1;33m.\u001b[0m\u001b[0marray\u001b[0m\u001b[1;33m(\u001b[0m\u001b[1;33m[\u001b[0m\u001b[1;33m-\u001b[0m\u001b[1;36m1\u001b[0m\u001b[1;33m]\u001b[0m\u001b[1;33m*\u001b[0m\u001b[1;33m(\u001b[0m\u001b[0mlen\u001b[0m\u001b[1;33m(\u001b[0m\u001b[0mids\u001b[0m\u001b[1;33m)\u001b[0m\u001b[1;33m)\u001b[0m\u001b[1;33m)\u001b[0m\u001b[1;33m\u001b[0m\u001b[1;33m\u001b[0m\u001b[0m\n\u001b[0;32m      3\u001b[0m \u001b[0mz1_5_ids\u001b[0m \u001b[1;33m=\u001b[0m \u001b[0mnp\u001b[0m\u001b[1;33m.\u001b[0m\u001b[0marray\u001b[0m\u001b[1;33m(\u001b[0m\u001b[1;33m[\u001b[0m\u001b[1;33m-\u001b[0m\u001b[1;36m1\u001b[0m\u001b[1;33m]\u001b[0m\u001b[1;33m*\u001b[0m\u001b[1;33m(\u001b[0m\u001b[0mlen\u001b[0m\u001b[1;33m(\u001b[0m\u001b[0mids\u001b[0m\u001b[1;33m)\u001b[0m\u001b[1;33m)\u001b[0m\u001b[1;33m)\u001b[0m\u001b[1;33m\u001b[0m\u001b[1;33m\u001b[0m\u001b[0m\n\u001b[0;32m      4\u001b[0m \u001b[1;33m\u001b[0m\u001b[0m\n\u001b[0;32m      5\u001b[0m \u001b[1;33m\u001b[0m\u001b[0m\n",
      "\u001b[1;31mNameError\u001b[0m: name 'ids' is not defined"
     ]
    }
   ],
   "source": [
    "z2_ids = ids\n",
    "z3_ids = np.array([-1]*(len(ids)))\n",
    "z1_5_ids = np.array([-1]*(len(ids)))\n",
    "\n",
    "\n",
    "#Finding the progenitors at z=3   \n",
    "count = 0\n",
    "print('z=3', z3_ids)\n",
    "for i, id in enumerate(z2_ids):\n",
    "    if z3_ids[i] == -1:\n",
    "        start_url = \"http://www.tng-project.org/api/TNG100-1/snapshots/33/subhalos/\" + str(id)\n",
    "        sub = get(start_url)  \n",
    "        while sub['prog_sfid'] != -1:\n",
    "            # request the full subhalo details of the progenitor by following the sublink URL\n",
    "            sub = get(sub['related']['sublink_progenitor'])\n",
    "            if sub['snap'] == 25:\n",
    "                z3_ids[i] = sub['id'] \n",
    "    count += 1\n",
    "    print(count)\n",
    "with h5py.File('redshift_ids.hdf5', 'a') as f:\n",
    "    d1 = f.create_dataset('z3_ids', data = z3_ids)\n",
    "    d2 = f.create_dataset('z2_ids', data = z2_ids)\n",
    "    \n",
    "#Finding the descendants at z=1.5\n",
    "count = 0\n",
    "print('z=1.5', z1_5_ids)\n",
    "for i, id in enumerate(z2_ids):\n",
    "    if z1_5_ids[i] == -1:\n",
    "        start_url = \"http://www.tng-project.org/api/TNG100-1/snapshots/33/subhalos/\" + str(id)\n",
    "        sub = get(start_url)   \n",
    "        while sub['desc_sfid'] != -1:\n",
    "            # request the full subhalo details of the progenitor by following the sublink URL\n",
    "            sub = get(sub['related']['sublink_descendant'])\n",
    "            if sub['snap'] == 40:\n",
    "                z1_5_ids[i] = sub['id']         \n",
    "    count += 1\n",
    "    print(count)\n",
    "with h5py.File('redshift_ids.hdf5', 'a') as f:\n",
    "    d3 = f.create_dataset('z1.5_ids', data = z1_5_ids)"
   ]
  },
  {
   "cell_type": "markdown",
   "metadata": {},
   "source": [
    "## 4. _Download particle data for linked ids at different redshifts_\n",
    "\n",
    "For each new set of ids for progenitors and descendants, now repeat the steps from the second cell to get and save the particle data for each galaxy at the new redshift. \n",
    "\n",
    "Remember to create new folders for each redshift you look at. We do not add the stellar assembly data for these redshifts."
   ]
  },
  {
   "cell_type": "code",
   "execution_count": 19,
   "metadata": {},
   "outputs": [
    {
     "name": "stdout",
     "output_type": "stream",
     "text": [
      "1045 1045\n"
     ]
    }
   ],
   "source": [
    "with h5py.File('redshift_ids.hdf5', 'r') as f:\n",
    "    z1_5_ids = f['z1.5_ids'][:]\n",
    "    z3_ids = f['z3_ids'][:]\n",
    "    \n",
    "print(len(z1_5_ids), len(z3_ids))\n",
    "\n",
    "redshift = 1.5\n",
    "for idx in z1_5_ids:\n",
    "    get_galaxy_particle_data(id=idx, redshift=redshift, populate_dict=False)\n",
    "    \n",
    "# redshift = 3\n",
    "# for idx in z3_ids:\n",
    "#     if idx in [4519623, -1]:\n",
    "#         pass\n",
    "#     else:\n",
    "#         get_galaxy_particle_data(id=idx, redshift=redshift, populate_dict=False)"
   ]
  },
  {
   "cell_type": "markdown",
   "metadata": {},
   "source": [
    "This concludes our section on downloading data. \n",
    "\n",
    "## 5. _Calculate halo properties from particle data_\n",
    "\n",
    "To speed up analysis, we now calculate and store some halo properties in a separate hdf5 file named ```'galaxy_population_data_'+str(self.redshift)+'.hdf5'```. Remember to finish running the above section before moving on to the steps below."
   ]
  },
  {
   "cell_type": "code",
   "execution_count": 4,
   "metadata": {
    "tags": []
   },
   "outputs": [
    {
     "name": "stdout",
     "output_type": "stream",
     "text": [
      "deleted\n",
      "10/25\n",
      "deleted\n",
      "11/25\n",
      "deleted\n",
      "12/25\n",
      "deleted\n",
      "13/25\n",
      "deleted\n",
      "14/25\n",
      "deleted\n",
      "15/25\n",
      "1045\n"
     ]
    },
    {
     "data": {
      "text/plain": [
       "{'ids': array([     0,      1,      2, ..., 184169, 186241, 195414]),\n",
       " 'median_age': array([1.15806843, 1.07934631, 1.70002201, ..., 1.04537836, 1.45133827,\n",
       "        1.93385962]),\n",
       " 'halfmass_radius': array([9.2798445 , 3.13625627, 0.85252436, ..., 1.21188859, 1.05147131,\n",
       "        0.71144572]),\n",
       " 'total_mass': array([11.97060448, 10.7967009 , 10.77381602, ..., 10.50468291,\n",
       "        10.57063462, 10.52393339]),\n",
       " 'newbin_current_SFR': array([43.31041718, 41.95539474,  0.        , ...,  9.15313339,\n",
       "         0.        ,  0.        ]),\n",
       " 'FeH_Re': array([-0.019475  ,  0.06504367,  0.08954783, ...,  0.12228309,\n",
       "         0.05689508, -0.01350551]),\n",
       " 'MgFe_Re': array([0.41997495, 0.35184819, 0.37041804, ..., 0.32551399, 0.34847784,\n",
       "        0.40531605]),\n",
       " 'MgH_Re': array([0.36271209, 0.35576349, 0.40462014, ..., 0.40744367, 0.34812796,\n",
       "        0.31582388]),\n",
       " 'FeH_1kpc': array([ 0.09133583,  0.22419962,  0.06360424, ...,  0.14642388,\n",
       "         0.06111883, -0.04799986]),\n",
       " 'MgFe_1kpc': array([0.41191784, 0.31665927, 0.37638125, ..., 0.3196165 , 0.34702504,\n",
       "        0.41162452]),\n",
       " 'MgH_1kpc': array([0.4606514 , 0.49780408, 0.38041148, ..., 0.42800006, 0.35164312,\n",
       "        0.27924857]),\n",
       " 'gas_mass_1kpc': array([0.00000000e+00, 2.26822529e+09, 0.00000000e+00, ...,\n",
       "        1.49943663e+09, 0.00000000e+00, 0.00000000e+00]),\n",
       " 'stellar_mass_1kpc': array([1.39559427e+11, 1.48939166e+10, 3.54287237e+10, ...,\n",
       "        1.19835010e+10, 1.76844669e+10, 2.21141523e+10]),\n",
       " 'OH_Re': <Closed HDF5 dataset>,\n",
       " 'OH_1kpc': <Closed HDF5 dataset>,\n",
       " 'OFe_Re': <Closed HDF5 dataset>,\n",
       " 'OFe_1kpc': <Closed HDF5 dataset>,\n",
       " 'FeH_gas_Re': <Closed HDF5 dataset>,\n",
       " 'FeH_gas_1kpc': <Closed HDF5 dataset>,\n",
       " 'OH_gas_Re': <Closed HDF5 dataset>,\n",
       " 'OH_gas_1kpc': <Closed HDF5 dataset>,\n",
       " 'percentile_age': array([0.90976386, 1.44025343, 1.1528455 , ..., 1.27146692, 1.17978361,\n",
       "        1.06745082])}"
      ]
     },
     "execution_count": 4,
     "metadata": {},
     "output_type": "execute_result"
    }
   ],
   "source": [
    "redshift = 2\n",
    "#this initializes the values in simulation_data.galaxies.galaxy_population\n",
    "ids = my_galaxy_population.select_galaxies(redshift=redshift, mass_min=10.5, mass_max=12)\n",
    "\n",
    "#calculate halo properties and store calculated data\n",
    "my_galaxy_population.get_galaxy_population_data()"
   ]
  },
  {
   "cell_type": "markdown",
   "metadata": {},
   "source": [
    "Following the directions above will help you download and process IllustrsTNG data on your local machine. You can move on to the ```Figures.ipynb``` notebook after the data has been stored in compatible formats."
   ]
  },
  {
   "cell_type": "markdown",
   "metadata": {},
   "source": [
    "# Some shortcuts\n",
    "\n",
    "Walking down merger trees can be time consuming. Stellar assembly files may be hard to come by/compile from scratch. So here are some shortcuts. \n",
    "\n",
    "## _Relevant post-processed data included_\n",
    "\n",
    "Post-processed data from TNG-100 that has been used to generate the figures in this paper are included in ```galaxy_population_data_2.hdf5``` and ```redshift_ids.hdf5```. Each array stores a halo property for each halo within our mass-cut at $z=2$, arranged by the order of ids in ```'ids'```. These properties can also be easily recalculated from raw TNG-100 data and stored in the same format by following the steps above.\n",
    "\n",
    "This data is stored in a format compatible with the code in ```Figures.ipynb```. However, individual halo files are not included. Follow the steps above to download particle data for galaxies directly from the IllustrisTNG public resease."
   ]
  },
  {
   "cell_type": "code",
   "execution_count": null,
   "metadata": {},
   "outputs": [],
   "source": []
  }
 ],
 "metadata": {
  "kernelspec": {
   "display_name": "Python 3",
   "language": "python",
   "name": "python3"
  },
  "language_info": {
   "codemirror_mode": {
    "name": "ipython",
    "version": 3
   },
   "file_extension": ".py",
   "mimetype": "text/x-python",
   "name": "python",
   "nbconvert_exporter": "python",
   "pygments_lexer": "ipython3",
   "version": "3.8.8"
  }
 },
 "nbformat": 4,
 "nbformat_minor": 4
}
